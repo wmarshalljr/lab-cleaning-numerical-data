{
 "cells": [
  {
   "cell_type": "markdown",
   "metadata": {},
   "source": [
    "# Import libraries & data"
   ]
  },
  {
   "cell_type": "code",
   "execution_count": null,
   "metadata": {},
   "outputs": [],
   "source": [
    "import pandas as pd\n",
    "import seaborn as sns\n",
    "import matplotlib.pyplot as plt\n",
    "import numpy as np"
   ]
  },
  {
   "cell_type": "code",
   "execution_count": null,
   "metadata": {},
   "outputs": [],
   "source": [
    "customer_df = pd.read_csv('we_fn_use_c_marketing_customer_value_analysis.csv')"
   ]
  },
  {
   "cell_type": "markdown",
   "metadata": {},
   "source": [
    "# Lab 4.1 - Numerical data cleaning"
   ]
  },
  {
   "cell_type": "code",
   "execution_count": null,
   "metadata": {},
   "outputs": [],
   "source": [
    "# No NaNs values in the dataset\n",
    "\n",
    "display(customer_df.info()) # or this code for nulls: customer_df.isnull().sum()/len(customer_df). But we can see already w/ info \n",
    "display(customer_df.shape)\n",
    "customer_df.head()"
   ]
  },
  {
   "cell_type": "code",
   "execution_count": null,
   "metadata": {},
   "outputs": [],
   "source": [
    "customer_df.describe().T"
   ]
  },
  {
   "cell_type": "code",
   "execution_count": null,
   "metadata": {},
   "outputs": [],
   "source": [
    "# For loop to replace the column headers with lowercase snake format\n",
    "\n",
    "n_cols = []\n",
    "for i in range(len(customer_df.columns)):\n",
    "    n_cols.append(customer_df.columns[i].lower().replace(' ','_'))\n",
    "\n",
    "customer_df.columns = n_cols\n"
   ]
  },
  {
   "cell_type": "code",
   "execution_count": null,
   "metadata": {},
   "outputs": [],
   "source": [
    "# The above code did not fix employmentstatus so I've done this. I'm sure there is a way to do it in the loop with regex...\n",
    "\n",
    "customer_df = customer_df.rename(columns = {'employmentstatus':'employment_status'})"
   ]
  },
  {
   "cell_type": "code",
   "execution_count": null,
   "metadata": {},
   "outputs": [],
   "source": [
    "# Change effective to date into a datetime format column\n",
    "\n",
    "customer_df['effective_to_date'] = pd.to_datetime(customer_df['effective_to_date'])"
   ]
  },
  {
   "cell_type": "code",
   "execution_count": null,
   "metadata": {},
   "outputs": [],
   "source": [
    "# To understand the data better (and clean as appropriate), we will start by separating numerical from the categorical\n",
    "\n",
    "numerical = customer_df.select_dtypes(include=np.number)\n",
    "categorical = customer_df.select_dtypes(include=object)"
   ]
  },
  {
   "cell_type": "code",
   "execution_count": null,
   "metadata": {},
   "outputs": [],
   "source": [
    "numerical.columns"
   ]
  },
  {
   "cell_type": "code",
   "execution_count": null,
   "metadata": {},
   "outputs": [],
   "source": [
    "numerical.shape[0] # This is the number of rows "
   ]
  },
  {
   "cell_type": "code",
   "execution_count": null,
   "metadata": {},
   "outputs": [],
   "source": [
    "# In the numerical data, we need to separate the continuous from discrete variables\n",
    "\n",
    "discrete_lst = []\n",
    "continuous_lst = []\n",
    "\n",
    "for col in numerical.columns:\n",
    "    if len(numerical[col].unique()) < (numerical.shape[0] * 0.02):\n",
    "        discrete_lst.append(col)\n",
    "    else:\n",
    "        continuous_lst.append(col)\n",
    "display(discrete_lst)\n",
    "display(continuous_lst)"
   ]
  },
  {
   "cell_type": "code",
   "execution_count": null,
   "metadata": {},
   "outputs": [],
   "source": [
    "# Function to pass the discrete / continuous split to the numerical dataset\n",
    "\n",
    "def discrete_continuous(df):\n",
    "    discrete_lst = []\n",
    "    continuous_lst = []\n",
    "    for col in numerical.columns:\n",
    "        if len(numerical[col].unique()) < (numerical.shape[0] * 0.02):\n",
    "            discrete_lst.append(col)\n",
    "        else:\n",
    "            continuous_lst.append(col)\n",
    "    return (discrete_lst, continuous_lst)"
   ]
  },
  {
   "cell_type": "code",
   "execution_count": null,
   "metadata": {},
   "outputs": [],
   "source": [
    "# Apply the function\n",
    "\n",
    "discrete_lst, continuous_lst = discrete_continuous(numerical)"
   ]
  },
  {
   "cell_type": "code",
   "execution_count": null,
   "metadata": {},
   "outputs": [],
   "source": [
    "# Plot a correlation matrix\n",
    "# We see that monthly_premium_auto is moderately correlated with both customer_lifetime_value (0.4) and total_claim_amount (0.63)\n",
    "# Total_claim_amount has a weak negative correlation with income (-0.36)\n",
    "# Nothing here would lead us to cut out a column in the numerical data\n",
    "\n",
    "correlations = numerical.corr()\n",
    "\n",
    "fig, ax=plt.subplots(figsize=(10,8))\n",
    "ax=sns.heatmap(correlations, cmap='mako_r', annot=True)\n",
    "plt.show()"
   ]
  },
  {
   "cell_type": "code",
   "execution_count": null,
   "metadata": {},
   "outputs": [],
   "source": [
    "# Plot the numerical variables to see their skew / distributions\n",
    "# Note: These four variables could be converted to categoricals but I don't think it's necessary here\n",
    "\n",
    "for column in numerical[discrete_lst]:\n",
    "    sns.displot(numerical[column], kde=True)\n",
    "    plt.show()"
   ]
  },
  {
   "cell_type": "code",
   "execution_count": null,
   "metadata": {},
   "outputs": [],
   "source": [
    "# Plot the categorical variables\n",
    "\n",
    "for column in numerical[continuous_lst]:\n",
    "    sns.histplot(numerical[column])\n",
    "    plt.show()"
   ]
  },
  {
   "cell_type": "code",
   "execution_count": null,
   "metadata": {},
   "outputs": [],
   "source": [
    "# Checking for outliers in the continuous variables\n",
    "\n",
    "for column in numerical[continuous_lst]:\n",
    "    sns.boxplot(numerical[column])\n",
    "    plt.show()"
   ]
  },
  {
   "cell_type": "code",
   "execution_count": null,
   "metadata": {},
   "outputs": [],
   "source": [
    "# Dealing with outliers -- using the IQR and a function to pass it to all variables\n",
    "# We could also try a log transform (perhaps instead?)\n",
    "\n",
    "def detect_outlier(column):\n",
    "    # find q1 and q3 values\n",
    "    q1, q3 = np.percentile(sorted(column), [25, 75])\n",
    " \n",
    "    # compute IQR\n",
    "    iqr = q3 - q1\n",
    " \n",
    "    # find lower and upper bounds\n",
    "    lower_bound = q1 - (1.5 * iqr)\n",
    "    upper_bound = q3 + (1.5 * iqr)\n",
    " \n",
    "    outliers = [x for x in column if x <= lower_bound or x >= upper_bound]\n",
    " \n",
    "    return outliers"
   ]
  },
  {
   "cell_type": "code",
   "execution_count": null,
   "metadata": {},
   "outputs": [],
   "source": [
    "clv_outliers = detect_outlier(numerical['customer_lifetime_value'])\n",
    "np_outliers = detect_outlier(numerical['number_of_policies'])\n",
    "mpa_outliers = detect_outlier(numerical['monthly_premium_auto'])\n",
    "\n",
    "display(len(clv_outliers), len(np_outliers), len(mpa_outliers))\n",
    "\n",
    "customer_df.shape\n",
    "\n",
    "# Not sure if we want to strike these outliers as it may cause us to lose a lot of data and they may actually have predictive power\n",
    "# Instead we will log transform to limit the skew caused by the outliers without throwing them out\n"
   ]
  },
  {
   "cell_type": "markdown",
   "metadata": {},
   "source": [
    "# Lab 4.2 - categorical data cleaning"
   ]
  },
  {
   "cell_type": "code",
   "execution_count": null,
   "metadata": {},
   "outputs": [],
   "source": [
    "# Explore the categorical data for anomalies. We already know from above that there are no NaNs to deal with... \n",
    "\n",
    "categorical.head()"
   ]
  },
  {
   "cell_type": "code",
   "execution_count": null,
   "metadata": {},
   "outputs": [],
   "source": [
    "categorical['state'].unique()"
   ]
  },
  {
   "cell_type": "code",
   "execution_count": null,
   "metadata": {},
   "outputs": [],
   "source": [
    "# def cntplot_cat(df):\n",
    "#     for column in categorical.columns:\n",
    "#         sns.countplot(x=categorical[column])\n",
    "#         plt.show()\n",
    "#     return None\n",
    "   \n",
    "# cntplot_cat(categorical)"
   ]
  },
  {
   "cell_type": "code",
   "execution_count": null,
   "metadata": {},
   "outputs": [],
   "source": [
    "# Drop the customer variable because it is not helpful for our analysis\n",
    "\n",
    "categorical = categorical.drop(['customer'], axis = 1)"
   ]
  },
  {
   "cell_type": "code",
   "execution_count": null,
   "metadata": {},
   "outputs": [],
   "source": [
    "categorical_columns = [col for col in categorical if (len(categorical[col].unique()) < (categorical.shape[0] * 0.01))]"
   ]
  },
  {
   "cell_type": "code",
   "execution_count": null,
   "metadata": {},
   "outputs": [],
   "source": [
    "# Fix education -- try to filter it into four categories instead (Note: not sure how college and bachelor differ)\n",
    "\n",
    "#categorical.loc[categorical[\"education\"].isin(['Master','Doctor'])] = \"Graduate\" # This is the problem code\n",
    "\n",
    "collapse = categorical[\"education\"].value_counts().index[:3]\n",
    "\n",
    "categorical[\"education\"] = np.where(categorical[\"education\"].isin(collapse), categorical[\"education\"], 'Graduate')\n",
    "categorical[\"education\"].value_counts(dropna=False)"
   ]
  },
  {
   "cell_type": "code",
   "execution_count": null,
   "metadata": {},
   "outputs": [],
   "source": [
    "# Run the same operation for vehicle_type\n",
    "\n",
    "collapse2 = categorical[\"vehicle_class\"].value_counts().index[:3]\n",
    "categorical[\"vehicle_class\"] = np.where(categorical[\"vehicle_class\"].isin(collapse2), categorical[\"vehicle_class\"], 'Luxury')\n",
    "categorical[\"vehicle_class\"].value_counts(dropna=False)"
   ]
  },
  {
   "cell_type": "code",
   "execution_count": null,
   "metadata": {},
   "outputs": [],
   "source": [
    "# Encode 'response' to be 0 or 1 so we can fix the data imbalance later...\n",
    "\n",
    "def yes_no(x):\n",
    "    if x=='Yes':\n",
    "        return 1\n",
    "    else:\n",
    "        return 0\n",
    "\n",
    "categorical['response'] = list(map(yes_no,categorical['response']))"
   ]
  },
  {
   "cell_type": "code",
   "execution_count": null,
   "metadata": {},
   "outputs": [],
   "source": [
    "display(categorical[\"policy\"].value_counts(dropna=False))\n",
    "categorical[\"policy_type\"].value_counts(dropna=False)"
   ]
  },
  {
   "cell_type": "code",
   "execution_count": null,
   "metadata": {},
   "outputs": [],
   "source": [
    "# Given the similarity of policy and policy_type, we can remove policy altogether (and maybe drop Special Auto as well)\n",
    "\n",
    "categorical = categorical.drop(['policy'], axis = 1)"
   ]
  },
  {
   "cell_type": "code",
   "execution_count": null,
   "metadata": {},
   "outputs": [],
   "source": [
    "# This is out final output for categorical variables:\n",
    " \n",
    "categorical"
   ]
  },
  {
   "cell_type": "markdown",
   "metadata": {},
   "source": [
    "# Lab 4.3 - Feature extraction"
   ]
  },
  {
   "cell_type": "code",
   "execution_count": null,
   "metadata": {},
   "outputs": [],
   "source": [
    "# I've already cleaned the categorical data to my liking above. See results:\n",
    "\n",
    "def cntplot_cat(df):\n",
    "    for column in categorical.columns:\n",
    "        sns.countplot(x=categorical[column])\n",
    "        plt.show()\n",
    "    return None\n",
    "   \n",
    "cntplot_cat(categorical)"
   ]
  },
  {
   "cell_type": "code",
   "execution_count": null,
   "metadata": {},
   "outputs": [],
   "source": [
    "customer_df['effective_to_date']"
   ]
  },
  {
   "cell_type": "code",
   "execution_count": null,
   "metadata": {},
   "outputs": [],
   "source": [
    "customer_df.describe().T"
   ]
  },
  {
   "cell_type": "code",
   "execution_count": null,
   "metadata": {},
   "outputs": [],
   "source": [
    "sns.histplot(customer_df['effective_to_date'])\n",
    "plt.xticks(rotation=70)\n",
    "plt.show()\n",
    "\n",
    "# With the histogram plot we see the frequency of policy expirations by date in the first quarter of 2011\n",
    "# There may be a bi-weekly 'seasonality' so the renewal of insurance may come around recieving the paycheck?"
   ]
  },
  {
   "cell_type": "code",
   "execution_count": null,
   "metadata": {},
   "outputs": [],
   "source": [
    "sns.histplot(customer_df['months_since_policy_inception'])\n",
    "plt.xticks(rotation=70)\n",
    "plt.show()\n",
    "\n",
    "# Doesn't look like there are any links between 'effective_to_date' and months since policy inception\n",
    "# if we map these plots on top of each other (they have different scales anyway)"
   ]
  },
  {
   "cell_type": "markdown",
   "metadata": {},
   "source": [
    "# Lab 4.5 - Comparing Regression Models"
   ]
  },
  {
   "cell_type": "code",
   "execution_count": 227,
   "metadata": {},
   "outputs": [
    {
     "data": {
      "text/html": [
       "<div>\n",
       "<style scoped>\n",
       "    .dataframe tbody tr th:only-of-type {\n",
       "        vertical-align: middle;\n",
       "    }\n",
       "\n",
       "    .dataframe tbody tr th {\n",
       "        vertical-align: top;\n",
       "    }\n",
       "\n",
       "    .dataframe thead th {\n",
       "        text-align: right;\n",
       "    }\n",
       "</style>\n",
       "<table border=\"1\" class=\"dataframe\">\n",
       "  <thead>\n",
       "    <tr style=\"text-align: right;\">\n",
       "      <th></th>\n",
       "      <th>0</th>\n",
       "      <th>1</th>\n",
       "      <th>2</th>\n",
       "      <th>3</th>\n",
       "      <th>4</th>\n",
       "    </tr>\n",
       "  </thead>\n",
       "  <tbody>\n",
       "    <tr>\n",
       "      <th>customer_lifetime_value</th>\n",
       "      <td>2763.519279</td>\n",
       "      <td>6979.535903</td>\n",
       "      <td>12887.43165</td>\n",
       "      <td>7645.861827</td>\n",
       "      <td>2813.692575</td>\n",
       "    </tr>\n",
       "    <tr>\n",
       "      <th>income</th>\n",
       "      <td>56274</td>\n",
       "      <td>0</td>\n",
       "      <td>48767</td>\n",
       "      <td>0</td>\n",
       "      <td>43836</td>\n",
       "    </tr>\n",
       "    <tr>\n",
       "      <th>monthly_premium_auto</th>\n",
       "      <td>69</td>\n",
       "      <td>94</td>\n",
       "      <td>108</td>\n",
       "      <td>106</td>\n",
       "      <td>73</td>\n",
       "    </tr>\n",
       "    <tr>\n",
       "      <th>months_since_last_claim</th>\n",
       "      <td>32</td>\n",
       "      <td>13</td>\n",
       "      <td>18</td>\n",
       "      <td>18</td>\n",
       "      <td>12</td>\n",
       "    </tr>\n",
       "    <tr>\n",
       "      <th>months_since_policy_inception</th>\n",
       "      <td>5</td>\n",
       "      <td>42</td>\n",
       "      <td>38</td>\n",
       "      <td>65</td>\n",
       "      <td>44</td>\n",
       "    </tr>\n",
       "    <tr>\n",
       "      <th>number_of_open_complaints</th>\n",
       "      <td>0</td>\n",
       "      <td>0</td>\n",
       "      <td>0</td>\n",
       "      <td>0</td>\n",
       "      <td>0</td>\n",
       "    </tr>\n",
       "    <tr>\n",
       "      <th>number_of_policies</th>\n",
       "      <td>1</td>\n",
       "      <td>8</td>\n",
       "      <td>2</td>\n",
       "      <td>7</td>\n",
       "      <td>1</td>\n",
       "    </tr>\n",
       "    <tr>\n",
       "      <th>total_claim_amount</th>\n",
       "      <td>384.811147</td>\n",
       "      <td>1131.464935</td>\n",
       "      <td>566.472247</td>\n",
       "      <td>529.881344</td>\n",
       "      <td>138.130879</td>\n",
       "    </tr>\n",
       "    <tr>\n",
       "      <th>state</th>\n",
       "      <td>Washington</td>\n",
       "      <td>Arizona</td>\n",
       "      <td>Nevada</td>\n",
       "      <td>California</td>\n",
       "      <td>Washington</td>\n",
       "    </tr>\n",
       "    <tr>\n",
       "      <th>response</th>\n",
       "      <td>0</td>\n",
       "      <td>0</td>\n",
       "      <td>0</td>\n",
       "      <td>0</td>\n",
       "      <td>0</td>\n",
       "    </tr>\n",
       "    <tr>\n",
       "      <th>coverage</th>\n",
       "      <td>Basic</td>\n",
       "      <td>Extended</td>\n",
       "      <td>Premium</td>\n",
       "      <td>Basic</td>\n",
       "      <td>Basic</td>\n",
       "    </tr>\n",
       "    <tr>\n",
       "      <th>education</th>\n",
       "      <td>Bachelor</td>\n",
       "      <td>Bachelor</td>\n",
       "      <td>Bachelor</td>\n",
       "      <td>Bachelor</td>\n",
       "      <td>Bachelor</td>\n",
       "    </tr>\n",
       "    <tr>\n",
       "      <th>employment_status</th>\n",
       "      <td>Employed</td>\n",
       "      <td>Unemployed</td>\n",
       "      <td>Employed</td>\n",
       "      <td>Unemployed</td>\n",
       "      <td>Employed</td>\n",
       "    </tr>\n",
       "    <tr>\n",
       "      <th>gender</th>\n",
       "      <td>F</td>\n",
       "      <td>F</td>\n",
       "      <td>F</td>\n",
       "      <td>M</td>\n",
       "      <td>M</td>\n",
       "    </tr>\n",
       "    <tr>\n",
       "      <th>location_code</th>\n",
       "      <td>Suburban</td>\n",
       "      <td>Suburban</td>\n",
       "      <td>Suburban</td>\n",
       "      <td>Suburban</td>\n",
       "      <td>Rural</td>\n",
       "    </tr>\n",
       "    <tr>\n",
       "      <th>marital_status</th>\n",
       "      <td>Married</td>\n",
       "      <td>Single</td>\n",
       "      <td>Married</td>\n",
       "      <td>Married</td>\n",
       "      <td>Single</td>\n",
       "    </tr>\n",
       "    <tr>\n",
       "      <th>policy_type</th>\n",
       "      <td>Corporate Auto</td>\n",
       "      <td>Personal Auto</td>\n",
       "      <td>Personal Auto</td>\n",
       "      <td>Corporate Auto</td>\n",
       "      <td>Personal Auto</td>\n",
       "    </tr>\n",
       "    <tr>\n",
       "      <th>renew_offer_type</th>\n",
       "      <td>Offer1</td>\n",
       "      <td>Offer3</td>\n",
       "      <td>Offer1</td>\n",
       "      <td>Offer1</td>\n",
       "      <td>Offer1</td>\n",
       "    </tr>\n",
       "    <tr>\n",
       "      <th>sales_channel</th>\n",
       "      <td>Agent</td>\n",
       "      <td>Agent</td>\n",
       "      <td>Agent</td>\n",
       "      <td>Call Center</td>\n",
       "      <td>Agent</td>\n",
       "    </tr>\n",
       "    <tr>\n",
       "      <th>vehicle_class</th>\n",
       "      <td>Two-Door Car</td>\n",
       "      <td>Four-Door Car</td>\n",
       "      <td>Two-Door Car</td>\n",
       "      <td>SUV</td>\n",
       "      <td>Four-Door Car</td>\n",
       "    </tr>\n",
       "    <tr>\n",
       "      <th>vehicle_size</th>\n",
       "      <td>Medsize</td>\n",
       "      <td>Medsize</td>\n",
       "      <td>Medsize</td>\n",
       "      <td>Medsize</td>\n",
       "      <td>Medsize</td>\n",
       "    </tr>\n",
       "  </tbody>\n",
       "</table>\n",
       "</div>"
      ],
      "text/plain": [
       "                                            0              1              2  \\\n",
       "customer_lifetime_value           2763.519279    6979.535903    12887.43165   \n",
       "income                                  56274              0          48767   \n",
       "monthly_premium_auto                       69             94            108   \n",
       "months_since_last_claim                    32             13             18   \n",
       "months_since_policy_inception               5             42             38   \n",
       "number_of_open_complaints                   0              0              0   \n",
       "number_of_policies                          1              8              2   \n",
       "total_claim_amount                 384.811147    1131.464935     566.472247   \n",
       "state                              Washington        Arizona         Nevada   \n",
       "response                                    0              0              0   \n",
       "coverage                                Basic       Extended        Premium   \n",
       "education                            Bachelor       Bachelor       Bachelor   \n",
       "employment_status                    Employed     Unemployed       Employed   \n",
       "gender                                      F              F              F   \n",
       "location_code                        Suburban       Suburban       Suburban   \n",
       "marital_status                        Married         Single        Married   \n",
       "policy_type                    Corporate Auto  Personal Auto  Personal Auto   \n",
       "renew_offer_type                       Offer1         Offer3         Offer1   \n",
       "sales_channel                           Agent          Agent          Agent   \n",
       "vehicle_class                    Two-Door Car  Four-Door Car   Two-Door Car   \n",
       "vehicle_size                          Medsize        Medsize        Medsize   \n",
       "\n",
       "                                            3              4  \n",
       "customer_lifetime_value           7645.861827    2813.692575  \n",
       "income                                      0          43836  \n",
       "monthly_premium_auto                      106             73  \n",
       "months_since_last_claim                    18             12  \n",
       "months_since_policy_inception              65             44  \n",
       "number_of_open_complaints                   0              0  \n",
       "number_of_policies                          7              1  \n",
       "total_claim_amount                 529.881344     138.130879  \n",
       "state                              California     Washington  \n",
       "response                                    0              0  \n",
       "coverage                                Basic          Basic  \n",
       "education                            Bachelor       Bachelor  \n",
       "employment_status                  Unemployed       Employed  \n",
       "gender                                      M              M  \n",
       "location_code                        Suburban          Rural  \n",
       "marital_status                        Married         Single  \n",
       "policy_type                    Corporate Auto  Personal Auto  \n",
       "renew_offer_type                       Offer1         Offer1  \n",
       "sales_channel                     Call Center          Agent  \n",
       "vehicle_class                             SUV  Four-Door Car  \n",
       "vehicle_size                          Medsize        Medsize  "
      ]
     },
     "execution_count": 227,
     "metadata": {},
     "output_type": "execute_result"
    }
   ],
   "source": [
    "# First we need to rejoin our pre-processed categorical and numerical data (from above) together\n",
    "\n",
    "data = pd.concat((numerical,categorical),axis=1)\n",
    "\n",
    "data.head().T\n",
    "\n",
    "# We are not removing outliers in the numericals at this point\n",
    "\n",
    "# Instead, we are electing to log transform them instead (and keep some of their explanatory power)"
   ]
  },
  {
   "cell_type": "code",
   "execution_count": 228,
   "metadata": {},
   "outputs": [],
   "source": [
    "X = data.drop(['total_claim_amount'],axis=1)\n",
    "y = data['total_claim_amount']"
   ]
  },
  {
   "cell_type": "code",
   "execution_count": 229,
   "metadata": {},
   "outputs": [],
   "source": [
    "from sklearn.model_selection import train_test_split\n",
    "\n",
    "X_train, X_test, y_train, y_test = train_test_split(X, y, test_size=0.4, random_state=100)"
   ]
  },
  {
   "cell_type": "code",
   "execution_count": 231,
   "metadata": {},
   "outputs": [
    {
     "data": {
      "text/html": [
       "<div>\n",
       "<style scoped>\n",
       "    .dataframe tbody tr th:only-of-type {\n",
       "        vertical-align: middle;\n",
       "    }\n",
       "\n",
       "    .dataframe tbody tr th {\n",
       "        vertical-align: top;\n",
       "    }\n",
       "\n",
       "    .dataframe thead th {\n",
       "        text-align: right;\n",
       "    }\n",
       "</style>\n",
       "<table border=\"1\" class=\"dataframe\">\n",
       "  <thead>\n",
       "    <tr style=\"text-align: right;\">\n",
       "      <th></th>\n",
       "      <th>3715</th>\n",
       "      <th>3824</th>\n",
       "      <th>4708</th>\n",
       "      <th>8734</th>\n",
       "      <th>6094</th>\n",
       "    </tr>\n",
       "  </thead>\n",
       "  <tbody>\n",
       "    <tr>\n",
       "      <th>customer_lifetime_value</th>\n",
       "      <td>9015.915395</td>\n",
       "      <td>9672.701942</td>\n",
       "      <td>9061.767848</td>\n",
       "      <td>14980.04626</td>\n",
       "      <td>8229.240991</td>\n",
       "    </tr>\n",
       "    <tr>\n",
       "      <th>income</th>\n",
       "      <td>0.000000</td>\n",
       "      <td>0.000000</td>\n",
       "      <td>37970.000000</td>\n",
       "      <td>0.00000</td>\n",
       "      <td>0.000000</td>\n",
       "    </tr>\n",
       "    <tr>\n",
       "      <th>monthly_premium_auto</th>\n",
       "      <td>130.000000</td>\n",
       "      <td>96.000000</td>\n",
       "      <td>115.000000</td>\n",
       "      <td>222.00000</td>\n",
       "      <td>109.000000</td>\n",
       "    </tr>\n",
       "    <tr>\n",
       "      <th>months_since_last_claim</th>\n",
       "      <td>32.000000</td>\n",
       "      <td>5.000000</td>\n",
       "      <td>8.000000</td>\n",
       "      <td>26.00000</td>\n",
       "      <td>5.000000</td>\n",
       "    </tr>\n",
       "    <tr>\n",
       "      <th>months_since_policy_inception</th>\n",
       "      <td>38.000000</td>\n",
       "      <td>27.000000</td>\n",
       "      <td>44.000000</td>\n",
       "      <td>50.00000</td>\n",
       "      <td>63.000000</td>\n",
       "    </tr>\n",
       "    <tr>\n",
       "      <th>number_of_open_complaints</th>\n",
       "      <td>0.000000</td>\n",
       "      <td>0.000000</td>\n",
       "      <td>0.000000</td>\n",
       "      <td>0.00000</td>\n",
       "      <td>0.000000</td>\n",
       "    </tr>\n",
       "    <tr>\n",
       "      <th>number_of_policies</th>\n",
       "      <td>4.000000</td>\n",
       "      <td>2.000000</td>\n",
       "      <td>3.000000</td>\n",
       "      <td>8.00000</td>\n",
       "      <td>3.000000</td>\n",
       "    </tr>\n",
       "    <tr>\n",
       "      <th>response</th>\n",
       "      <td>0.000000</td>\n",
       "      <td>0.000000</td>\n",
       "      <td>0.000000</td>\n",
       "      <td>0.00000</td>\n",
       "      <td>0.000000</td>\n",
       "    </tr>\n",
       "  </tbody>\n",
       "</table>\n",
       "</div>"
      ],
      "text/plain": [
       "                                      3715         3824          4708  \\\n",
       "customer_lifetime_value        9015.915395  9672.701942   9061.767848   \n",
       "income                            0.000000     0.000000  37970.000000   \n",
       "monthly_premium_auto            130.000000    96.000000    115.000000   \n",
       "months_since_last_claim          32.000000     5.000000      8.000000   \n",
       "months_since_policy_inception    38.000000    27.000000     44.000000   \n",
       "number_of_open_complaints         0.000000     0.000000      0.000000   \n",
       "number_of_policies                4.000000     2.000000      3.000000   \n",
       "response                          0.000000     0.000000      0.000000   \n",
       "\n",
       "                                      8734         6094  \n",
       "customer_lifetime_value        14980.04626  8229.240991  \n",
       "income                             0.00000     0.000000  \n",
       "monthly_premium_auto             222.00000   109.000000  \n",
       "months_since_last_claim           26.00000     5.000000  \n",
       "months_since_policy_inception     50.00000    63.000000  \n",
       "number_of_open_complaints          0.00000     0.000000  \n",
       "number_of_policies                 8.00000     3.000000  \n",
       "response                           0.00000     0.000000  "
      ]
     },
     "execution_count": 231,
     "metadata": {},
     "output_type": "execute_result"
    }
   ],
   "source": [
    "# Numericals\n",
    "\n",
    "# Split into test / train\n",
    "\n",
    "X_train_num = X_train.select_dtypes(np.number)\n",
    "X_test_num = X_test.select_dtypes(np.number)\n",
    "X_train_num.head().T"
   ]
  },
  {
   "cell_type": "code",
   "execution_count": 232,
   "metadata": {},
   "outputs": [],
   "source": [
    "# A function to apply to those columns we would like to log transform\n",
    "\n",
    "def log_transform(x):\n",
    "    x = np.log10(x)\n",
    "    if np.isfinite(x):\n",
    "        return x\n",
    "    else:\n",
    "        return 0"
   ]
  },
  {
   "cell_type": "code",
   "execution_count": 233,
   "metadata": {},
   "outputs": [],
   "source": [
    "# Applying the log transform function to the three numerical columns that require it most (based on the displots above)\n",
    "# All of the other columns in the numericals should be fine as they are\n",
    "\n",
    "X_train_num['monthly_premium_auto'] = X_train_num['monthly_premium_auto'].apply(log_transform)\n",
    "X_train_num['income'] = X_train_num['income'].apply(log_transform)\n",
    "X_train_num['customer_lifetime_value'] = X_train_num['customer_lifetime_value'].apply(log_transform)\n",
    "\n",
    "X_test_num['monthly_premium_auto'] = X_test_num['monthly_premium_auto'].apply(log_transform)\n",
    "X_test_num['income'] = X_test_num['income'].apply(log_transform)\n",
    "X_test_num['customer_lifetime_value'] = X_test_num['customer_lifetime_value'].apply(log_transform)"
   ]
  },
  {
   "cell_type": "code",
   "execution_count": 234,
   "metadata": {},
   "outputs": [
    {
     "data": {
      "text/plain": [
       "Bachelor                1682\n",
       "College                 1617\n",
       "High School or Below    1533\n",
       "Graduate                 648\n",
       "Name: education, dtype: int64"
      ]
     },
     "execution_count": 234,
     "metadata": {},
     "output_type": "execute_result"
    }
   ],
   "source": [
    "# Categoricals\n",
    "\n",
    "# Split the test and training data for the categoricals\n",
    "\n",
    "X_train_cat = X_train.select_dtypes(object)\n",
    "X_test_cat = X_test.select_dtypes(object)\n",
    "\n",
    "# I used this to check all of the unique values by variable and set up the prefered ordinals below\n",
    "\n",
    "X_train_cat['education'].value_counts()"
   ]
  },
  {
   "cell_type": "code",
   "execution_count": 235,
   "metadata": {},
   "outputs": [],
   "source": [
    "# Converting some variables to ordinal instead of OneHot encoding them \n",
    "# The goal is to make all the dummy variables between 0 and 1\n",
    "# I know some loops / functions would be better here but I ran out of time to figure it out\n",
    "\n",
    "X_train_cat[\"coverage\"] = X_train_cat[\"coverage\"].map({\"Basic\" : 0, \"Extended\" : 0.5, \"Premium\" : 1})\n",
    "X_train_cat['employment_status'] = X_train_cat['employment_status'].map({'Unemployed': 0, 'Employed': 0.25, 'Medical Leave': 0.5, 'Disabled': 0.75, 'Retired': 1})\n",
    "X_train_cat[\"vehicle_size\"] = X_train_cat[\"vehicle_size\"].map({\"Small\" : 0, \"Medsize\" : 0.5, \"Large\" : 1})\n",
    "X_train_cat[\"location_code\"] = X_train_cat[\"location_code\"].map({\"Suburban\" : 0, \"Rural\" : 0.5, \"Urban\" : 1})\n",
    "X_train_cat[\"education\"] = X_train_cat[\"education\"].map({\"Bachelor\" : 0, \"College\" : 0.33, \"High School or Below\" : 0.67, 'Graduate': 1})\n",
    "X_train_cat['state'] = X_train_cat['state'].map({\"California\" : 0, \"Oregon\" : 0.25, \"Arizona\" : 0.5, 'Nevada': 0.75, 'Washington': 1})\n",
    "\n",
    "X_train_OneHot = X_train_cat.drop([\"coverage\",'employment_status',\"vehicle_size\",\"location_code\",\"education\", 'state'], axis=1)\n",
    "X_train_ordinal = X_train_cat[[\"coverage\",'employment_status',\"vehicle_size\",\"location_code\",\"education\", 'state']]"
   ]
  },
  {
   "cell_type": "code",
   "execution_count": 236,
   "metadata": {},
   "outputs": [],
   "source": [
    "X_test_cat[\"coverage\"] = X_test_cat[\"coverage\"].map({\"Basic\" : 0, \"Extended\" : 0.5, \"Premium\" : 1})\n",
    "X_test_cat['employment_status'] = X_test_cat['employment_status'].map({'Unemployed': 0, 'Employed': 0.25, 'Medical Leave': 0.5, 'Disabled': 0.75, 'Retired': 1})\n",
    "X_test_cat[\"vehicle_size\"] = X_test_cat[\"vehicle_size\"].map({\"Small\" : 0, \"Medsize\" : 0.5, \"Large\" : 1})\n",
    "X_test_cat[\"location_code\"] = X_test_cat[\"location_code\"].map({\"Suburban\" : 0, \"Rural\" : 0.5, \"Urban\" : 1})\n",
    "X_test_cat[\"education\"] = X_test_cat[\"education\"].map({\"Bachelor\" : 0, \"College\" : 0.33, \"High School or Below\" : 0.67, 'Graduate': 1})\n",
    "X_test_cat['state'] = X_test_cat['state'].map({\"California\" : 0, \"Oregon\" : 0.25, \"Arizona\" : 0.5, 'Nevada': 0.75, 'Washington': 1})\n",
    "\n",
    "X_test_OneHot = X_test_cat.drop([\"coverage\",'employment_status',\"vehicle_size\",\"location_code\",\"education\", 'state'], axis=1)\n",
    "X_test_ordinal = X_test_cat[[\"coverage\",'employment_status',\"vehicle_size\",\"location_code\",\"education\", 'state']]"
   ]
  },
  {
   "cell_type": "code",
   "execution_count": 237,
   "metadata": {},
   "outputs": [],
   "source": [
    "from sklearn.preprocessing import OneHotEncoder\n",
    "\n",
    "encoder = OneHotEncoder(handle_unknown='error', drop='first').fit(X_train_OneHot)\n",
    "X_train_encoded = encoder.transform(X_train_OneHot).toarray()\n",
    "X_test_encoded = encoder.transform(X_test_OneHot).toarray()"
   ]
  },
  {
   "cell_type": "code",
   "execution_count": 238,
   "metadata": {},
   "outputs": [],
   "source": [
    "# Concatenate the ordinal and encoded categorical variables\n",
    "\n",
    "X_train_cat_concat = np.concatenate((X_train_ordinal, X_train_encoded),axis=1)\n",
    "X_test_cat_concat = np.concatenate((X_test_ordinal, X_test_encoded),axis=1)"
   ]
  },
  {
   "cell_type": "code",
   "execution_count": 239,
   "metadata": {},
   "outputs": [],
   "source": [
    "# Concatenate the transformed numericals with the encoded and ordinal categoricals.\n",
    "# Ready to fit the model\n",
    "\n",
    "X_train_processed = np.concatenate((X_train_num, X_train_cat_concat), axis=1)\n",
    "X_test_processed = np.concatenate((X_test_num, X_test_cat_concat), axis=1)"
   ]
  },
  {
   "cell_type": "code",
   "execution_count": 240,
   "metadata": {},
   "outputs": [
    {
     "data": {
      "text/html": [
       "<div>\n",
       "<style scoped>\n",
       "    .dataframe tbody tr th:only-of-type {\n",
       "        vertical-align: middle;\n",
       "    }\n",
       "\n",
       "    .dataframe tbody tr th {\n",
       "        vertical-align: top;\n",
       "    }\n",
       "\n",
       "    .dataframe thead th {\n",
       "        text-align: right;\n",
       "    }\n",
       "</style>\n",
       "<table border=\"1\" class=\"dataframe\">\n",
       "  <thead>\n",
       "    <tr style=\"text-align: right;\">\n",
       "      <th></th>\n",
       "      <th>0</th>\n",
       "      <th>1</th>\n",
       "      <th>2</th>\n",
       "      <th>3</th>\n",
       "      <th>4</th>\n",
       "      <th>5</th>\n",
       "      <th>6</th>\n",
       "      <th>7</th>\n",
       "      <th>8</th>\n",
       "      <th>9</th>\n",
       "      <th>...</th>\n",
       "      <th>18</th>\n",
       "      <th>19</th>\n",
       "      <th>20</th>\n",
       "      <th>21</th>\n",
       "      <th>22</th>\n",
       "      <th>23</th>\n",
       "      <th>24</th>\n",
       "      <th>25</th>\n",
       "      <th>26</th>\n",
       "      <th>27</th>\n",
       "    </tr>\n",
       "  </thead>\n",
       "  <tbody>\n",
       "    <tr>\n",
       "      <th>0</th>\n",
       "      <td>3.708639</td>\n",
       "      <td>4.752717</td>\n",
       "      <td>1.812913</td>\n",
       "      <td>4.0</td>\n",
       "      <td>88.0</td>\n",
       "      <td>1.0</td>\n",
       "      <td>6.0</td>\n",
       "      <td>0.0</td>\n",
       "      <td>0.0</td>\n",
       "      <td>0.25</td>\n",
       "      <td>...</td>\n",
       "      <td>0.0</td>\n",
       "      <td>0.0</td>\n",
       "      <td>0.0</td>\n",
       "      <td>0.0</td>\n",
       "      <td>0.0</td>\n",
       "      <td>0.0</td>\n",
       "      <td>1.0</td>\n",
       "      <td>0.0</td>\n",
       "      <td>0.0</td>\n",
       "      <td>0.0</td>\n",
       "    </tr>\n",
       "    <tr>\n",
       "      <th>1</th>\n",
       "      <td>3.688623</td>\n",
       "      <td>4.327073</td>\n",
       "      <td>2.089905</td>\n",
       "      <td>3.0</td>\n",
       "      <td>12.0</td>\n",
       "      <td>0.0</td>\n",
       "      <td>1.0</td>\n",
       "      <td>0.0</td>\n",
       "      <td>0.5</td>\n",
       "      <td>0.25</td>\n",
       "      <td>...</td>\n",
       "      <td>0.0</td>\n",
       "      <td>1.0</td>\n",
       "      <td>0.0</td>\n",
       "      <td>0.0</td>\n",
       "      <td>0.0</td>\n",
       "      <td>1.0</td>\n",
       "      <td>0.0</td>\n",
       "      <td>0.0</td>\n",
       "      <td>1.0</td>\n",
       "      <td>0.0</td>\n",
       "    </tr>\n",
       "    <tr>\n",
       "      <th>2</th>\n",
       "      <td>3.739488</td>\n",
       "      <td>4.529956</td>\n",
       "      <td>1.832509</td>\n",
       "      <td>11.0</td>\n",
       "      <td>83.0</td>\n",
       "      <td>0.0</td>\n",
       "      <td>9.0</td>\n",
       "      <td>0.0</td>\n",
       "      <td>0.0</td>\n",
       "      <td>0.25</td>\n",
       "      <td>...</td>\n",
       "      <td>0.0</td>\n",
       "      <td>1.0</td>\n",
       "      <td>0.0</td>\n",
       "      <td>0.0</td>\n",
       "      <td>0.0</td>\n",
       "      <td>0.0</td>\n",
       "      <td>1.0</td>\n",
       "      <td>0.0</td>\n",
       "      <td>0.0</td>\n",
       "      <td>0.0</td>\n",
       "    </tr>\n",
       "    <tr>\n",
       "      <th>3</th>\n",
       "      <td>3.568247</td>\n",
       "      <td>4.244450</td>\n",
       "      <td>1.982271</td>\n",
       "      <td>6.0</td>\n",
       "      <td>5.0</td>\n",
       "      <td>0.0</td>\n",
       "      <td>1.0</td>\n",
       "      <td>0.0</td>\n",
       "      <td>0.5</td>\n",
       "      <td>1.00</td>\n",
       "      <td>...</td>\n",
       "      <td>0.0</td>\n",
       "      <td>0.0</td>\n",
       "      <td>0.0</td>\n",
       "      <td>1.0</td>\n",
       "      <td>0.0</td>\n",
       "      <td>0.0</td>\n",
       "      <td>1.0</td>\n",
       "      <td>0.0</td>\n",
       "      <td>0.0</td>\n",
       "      <td>0.0</td>\n",
       "    </tr>\n",
       "    <tr>\n",
       "      <th>4</th>\n",
       "      <td>3.938512</td>\n",
       "      <td>4.721951</td>\n",
       "      <td>2.037426</td>\n",
       "      <td>5.0</td>\n",
       "      <td>60.0</td>\n",
       "      <td>0.0</td>\n",
       "      <td>8.0</td>\n",
       "      <td>0.0</td>\n",
       "      <td>1.0</td>\n",
       "      <td>0.25</td>\n",
       "      <td>...</td>\n",
       "      <td>0.0</td>\n",
       "      <td>0.0</td>\n",
       "      <td>1.0</td>\n",
       "      <td>0.0</td>\n",
       "      <td>0.0</td>\n",
       "      <td>0.0</td>\n",
       "      <td>0.0</td>\n",
       "      <td>0.0</td>\n",
       "      <td>0.0</td>\n",
       "      <td>0.0</td>\n",
       "    </tr>\n",
       "    <tr>\n",
       "      <th>...</th>\n",
       "      <td>...</td>\n",
       "      <td>...</td>\n",
       "      <td>...</td>\n",
       "      <td>...</td>\n",
       "      <td>...</td>\n",
       "      <td>...</td>\n",
       "      <td>...</td>\n",
       "      <td>...</td>\n",
       "      <td>...</td>\n",
       "      <td>...</td>\n",
       "      <td>...</td>\n",
       "      <td>...</td>\n",
       "      <td>...</td>\n",
       "      <td>...</td>\n",
       "      <td>...</td>\n",
       "      <td>...</td>\n",
       "      <td>...</td>\n",
       "      <td>...</td>\n",
       "      <td>...</td>\n",
       "      <td>...</td>\n",
       "      <td>...</td>\n",
       "    </tr>\n",
       "    <tr>\n",
       "      <th>3649</th>\n",
       "      <td>3.706463</td>\n",
       "      <td>0.000000</td>\n",
       "      <td>1.857332</td>\n",
       "      <td>12.0</td>\n",
       "      <td>70.0</td>\n",
       "      <td>0.0</td>\n",
       "      <td>3.0</td>\n",
       "      <td>0.0</td>\n",
       "      <td>0.0</td>\n",
       "      <td>0.00</td>\n",
       "      <td>...</td>\n",
       "      <td>0.0</td>\n",
       "      <td>1.0</td>\n",
       "      <td>0.0</td>\n",
       "      <td>0.0</td>\n",
       "      <td>0.0</td>\n",
       "      <td>0.0</td>\n",
       "      <td>1.0</td>\n",
       "      <td>0.0</td>\n",
       "      <td>0.0</td>\n",
       "      <td>0.0</td>\n",
       "    </tr>\n",
       "    <tr>\n",
       "      <th>3650</th>\n",
       "      <td>4.331141</td>\n",
       "      <td>4.315298</td>\n",
       "      <td>2.274158</td>\n",
       "      <td>34.0</td>\n",
       "      <td>54.0</td>\n",
       "      <td>3.0</td>\n",
       "      <td>2.0</td>\n",
       "      <td>0.0</td>\n",
       "      <td>0.0</td>\n",
       "      <td>0.25</td>\n",
       "      <td>...</td>\n",
       "      <td>0.0</td>\n",
       "      <td>1.0</td>\n",
       "      <td>0.0</td>\n",
       "      <td>0.0</td>\n",
       "      <td>0.0</td>\n",
       "      <td>1.0</td>\n",
       "      <td>0.0</td>\n",
       "      <td>1.0</td>\n",
       "      <td>0.0</td>\n",
       "      <td>0.0</td>\n",
       "    </tr>\n",
       "    <tr>\n",
       "      <th>3651</th>\n",
       "      <td>3.945020</td>\n",
       "      <td>4.882331</td>\n",
       "      <td>2.041393</td>\n",
       "      <td>24.0</td>\n",
       "      <td>88.0</td>\n",
       "      <td>1.0</td>\n",
       "      <td>3.0</td>\n",
       "      <td>0.0</td>\n",
       "      <td>1.0</td>\n",
       "      <td>0.25</td>\n",
       "      <td>...</td>\n",
       "      <td>0.0</td>\n",
       "      <td>0.0</td>\n",
       "      <td>0.0</td>\n",
       "      <td>0.0</td>\n",
       "      <td>1.0</td>\n",
       "      <td>0.0</td>\n",
       "      <td>0.0</td>\n",
       "      <td>0.0</td>\n",
       "      <td>0.0</td>\n",
       "      <td>1.0</td>\n",
       "    </tr>\n",
       "    <tr>\n",
       "      <th>3652</th>\n",
       "      <td>3.620956</td>\n",
       "      <td>4.149465</td>\n",
       "      <td>2.037426</td>\n",
       "      <td>27.0</td>\n",
       "      <td>88.0</td>\n",
       "      <td>0.0</td>\n",
       "      <td>1.0</td>\n",
       "      <td>0.0</td>\n",
       "      <td>1.0</td>\n",
       "      <td>0.50</td>\n",
       "      <td>...</td>\n",
       "      <td>0.0</td>\n",
       "      <td>0.0</td>\n",
       "      <td>0.0</td>\n",
       "      <td>0.0</td>\n",
       "      <td>0.0</td>\n",
       "      <td>1.0</td>\n",
       "      <td>0.0</td>\n",
       "      <td>0.0</td>\n",
       "      <td>0.0</td>\n",
       "      <td>0.0</td>\n",
       "    </tr>\n",
       "    <tr>\n",
       "      <th>3653</th>\n",
       "      <td>3.677693</td>\n",
       "      <td>0.000000</td>\n",
       "      <td>1.832509</td>\n",
       "      <td>9.0</td>\n",
       "      <td>1.0</td>\n",
       "      <td>0.0</td>\n",
       "      <td>6.0</td>\n",
       "      <td>0.0</td>\n",
       "      <td>0.0</td>\n",
       "      <td>0.00</td>\n",
       "      <td>...</td>\n",
       "      <td>0.0</td>\n",
       "      <td>0.0</td>\n",
       "      <td>0.0</td>\n",
       "      <td>0.0</td>\n",
       "      <td>0.0</td>\n",
       "      <td>0.0</td>\n",
       "      <td>1.0</td>\n",
       "      <td>0.0</td>\n",
       "      <td>0.0</td>\n",
       "      <td>0.0</td>\n",
       "    </tr>\n",
       "  </tbody>\n",
       "</table>\n",
       "<p>3654 rows × 28 columns</p>\n",
       "</div>"
      ],
      "text/plain": [
       "            0         1         2     3     4    5    6    7    8     9   ...  \\\n",
       "0     3.708639  4.752717  1.812913   4.0  88.0  1.0  6.0  0.0  0.0  0.25  ...   \n",
       "1     3.688623  4.327073  2.089905   3.0  12.0  0.0  1.0  0.0  0.5  0.25  ...   \n",
       "2     3.739488  4.529956  1.832509  11.0  83.0  0.0  9.0  0.0  0.0  0.25  ...   \n",
       "3     3.568247  4.244450  1.982271   6.0   5.0  0.0  1.0  0.0  0.5  1.00  ...   \n",
       "4     3.938512  4.721951  2.037426   5.0  60.0  0.0  8.0  0.0  1.0  0.25  ...   \n",
       "...        ...       ...       ...   ...   ...  ...  ...  ...  ...   ...  ...   \n",
       "3649  3.706463  0.000000  1.857332  12.0  70.0  0.0  3.0  0.0  0.0  0.00  ...   \n",
       "3650  4.331141  4.315298  2.274158  34.0  54.0  3.0  2.0  0.0  0.0  0.25  ...   \n",
       "3651  3.945020  4.882331  2.041393  24.0  88.0  1.0  3.0  0.0  1.0  0.25  ...   \n",
       "3652  3.620956  4.149465  2.037426  27.0  88.0  0.0  1.0  0.0  1.0  0.50  ...   \n",
       "3653  3.677693  0.000000  1.832509   9.0   1.0  0.0  6.0  0.0  0.0  0.00  ...   \n",
       "\n",
       "       18   19   20   21   22   23   24   25   26   27  \n",
       "0     0.0  0.0  0.0  0.0  0.0  0.0  1.0  0.0  0.0  0.0  \n",
       "1     0.0  1.0  0.0  0.0  0.0  1.0  0.0  0.0  1.0  0.0  \n",
       "2     0.0  1.0  0.0  0.0  0.0  0.0  1.0  0.0  0.0  0.0  \n",
       "3     0.0  0.0  0.0  1.0  0.0  0.0  1.0  0.0  0.0  0.0  \n",
       "4     0.0  0.0  1.0  0.0  0.0  0.0  0.0  0.0  0.0  0.0  \n",
       "...   ...  ...  ...  ...  ...  ...  ...  ...  ...  ...  \n",
       "3649  0.0  1.0  0.0  0.0  0.0  0.0  1.0  0.0  0.0  0.0  \n",
       "3650  0.0  1.0  0.0  0.0  0.0  1.0  0.0  1.0  0.0  0.0  \n",
       "3651  0.0  0.0  0.0  0.0  1.0  0.0  0.0  0.0  0.0  1.0  \n",
       "3652  0.0  0.0  0.0  0.0  0.0  1.0  0.0  0.0  0.0  0.0  \n",
       "3653  0.0  0.0  0.0  0.0  0.0  0.0  1.0  0.0  0.0  0.0  \n",
       "\n",
       "[3654 rows x 28 columns]"
      ]
     },
     "metadata": {},
     "output_type": "display_data"
    },
    {
     "data": {
      "text/html": [
       "<div>\n",
       "<style scoped>\n",
       "    .dataframe tbody tr th:only-of-type {\n",
       "        vertical-align: middle;\n",
       "    }\n",
       "\n",
       "    .dataframe tbody tr th {\n",
       "        vertical-align: top;\n",
       "    }\n",
       "\n",
       "    .dataframe thead th {\n",
       "        text-align: right;\n",
       "    }\n",
       "</style>\n",
       "<table border=\"1\" class=\"dataframe\">\n",
       "  <thead>\n",
       "    <tr style=\"text-align: right;\">\n",
       "      <th></th>\n",
       "      <th>0</th>\n",
       "      <th>1</th>\n",
       "      <th>2</th>\n",
       "      <th>3</th>\n",
       "      <th>4</th>\n",
       "      <th>5</th>\n",
       "      <th>6</th>\n",
       "      <th>7</th>\n",
       "      <th>8</th>\n",
       "      <th>9</th>\n",
       "      <th>...</th>\n",
       "      <th>18</th>\n",
       "      <th>19</th>\n",
       "      <th>20</th>\n",
       "      <th>21</th>\n",
       "      <th>22</th>\n",
       "      <th>23</th>\n",
       "      <th>24</th>\n",
       "      <th>25</th>\n",
       "      <th>26</th>\n",
       "      <th>27</th>\n",
       "    </tr>\n",
       "  </thead>\n",
       "  <tbody>\n",
       "    <tr>\n",
       "      <th>0</th>\n",
       "      <td>3.955010</td>\n",
       "      <td>0.000000</td>\n",
       "      <td>2.113943</td>\n",
       "      <td>32.0</td>\n",
       "      <td>38.0</td>\n",
       "      <td>0.0</td>\n",
       "      <td>4.0</td>\n",
       "      <td>0.0</td>\n",
       "      <td>0.5</td>\n",
       "      <td>0.00</td>\n",
       "      <td>...</td>\n",
       "      <td>0.0</td>\n",
       "      <td>0.0</td>\n",
       "      <td>0.0</td>\n",
       "      <td>0.0</td>\n",
       "      <td>0.0</td>\n",
       "      <td>0.0</td>\n",
       "      <td>0.0</td>\n",
       "      <td>0.0</td>\n",
       "      <td>1.0</td>\n",
       "      <td>0.0</td>\n",
       "    </tr>\n",
       "    <tr>\n",
       "      <th>1</th>\n",
       "      <td>3.985548</td>\n",
       "      <td>0.000000</td>\n",
       "      <td>1.982271</td>\n",
       "      <td>5.0</td>\n",
       "      <td>27.0</td>\n",
       "      <td>0.0</td>\n",
       "      <td>2.0</td>\n",
       "      <td>0.0</td>\n",
       "      <td>0.5</td>\n",
       "      <td>0.00</td>\n",
       "      <td>...</td>\n",
       "      <td>0.0</td>\n",
       "      <td>0.0</td>\n",
       "      <td>0.0</td>\n",
       "      <td>0.0</td>\n",
       "      <td>0.0</td>\n",
       "      <td>0.0</td>\n",
       "      <td>0.0</td>\n",
       "      <td>0.0</td>\n",
       "      <td>0.0</td>\n",
       "      <td>0.0</td>\n",
       "    </tr>\n",
       "    <tr>\n",
       "      <th>2</th>\n",
       "      <td>3.957213</td>\n",
       "      <td>4.579441</td>\n",
       "      <td>2.060698</td>\n",
       "      <td>8.0</td>\n",
       "      <td>44.0</td>\n",
       "      <td>0.0</td>\n",
       "      <td>3.0</td>\n",
       "      <td>0.0</td>\n",
       "      <td>0.0</td>\n",
       "      <td>0.25</td>\n",
       "      <td>...</td>\n",
       "      <td>0.0</td>\n",
       "      <td>0.0</td>\n",
       "      <td>0.0</td>\n",
       "      <td>0.0</td>\n",
       "      <td>0.0</td>\n",
       "      <td>0.0</td>\n",
       "      <td>0.0</td>\n",
       "      <td>0.0</td>\n",
       "      <td>1.0</td>\n",
       "      <td>0.0</td>\n",
       "    </tr>\n",
       "    <tr>\n",
       "      <th>3</th>\n",
       "      <td>4.175513</td>\n",
       "      <td>0.000000</td>\n",
       "      <td>2.346353</td>\n",
       "      <td>26.0</td>\n",
       "      <td>50.0</td>\n",
       "      <td>0.0</td>\n",
       "      <td>8.0</td>\n",
       "      <td>0.0</td>\n",
       "      <td>0.5</td>\n",
       "      <td>0.00</td>\n",
       "      <td>...</td>\n",
       "      <td>0.0</td>\n",
       "      <td>0.0</td>\n",
       "      <td>0.0</td>\n",
       "      <td>0.0</td>\n",
       "      <td>1.0</td>\n",
       "      <td>0.0</td>\n",
       "      <td>0.0</td>\n",
       "      <td>1.0</td>\n",
       "      <td>0.0</td>\n",
       "      <td>0.0</td>\n",
       "    </tr>\n",
       "    <tr>\n",
       "      <th>4</th>\n",
       "      <td>3.915360</td>\n",
       "      <td>0.000000</td>\n",
       "      <td>2.037426</td>\n",
       "      <td>5.0</td>\n",
       "      <td>63.0</td>\n",
       "      <td>0.0</td>\n",
       "      <td>3.0</td>\n",
       "      <td>0.0</td>\n",
       "      <td>0.0</td>\n",
       "      <td>0.00</td>\n",
       "      <td>...</td>\n",
       "      <td>0.0</td>\n",
       "      <td>0.0</td>\n",
       "      <td>1.0</td>\n",
       "      <td>0.0</td>\n",
       "      <td>0.0</td>\n",
       "      <td>0.0</td>\n",
       "      <td>1.0</td>\n",
       "      <td>0.0</td>\n",
       "      <td>1.0</td>\n",
       "      <td>0.0</td>\n",
       "    </tr>\n",
       "    <tr>\n",
       "      <th>...</th>\n",
       "      <td>...</td>\n",
       "      <td>...</td>\n",
       "      <td>...</td>\n",
       "      <td>...</td>\n",
       "      <td>...</td>\n",
       "      <td>...</td>\n",
       "      <td>...</td>\n",
       "      <td>...</td>\n",
       "      <td>...</td>\n",
       "      <td>...</td>\n",
       "      <td>...</td>\n",
       "      <td>...</td>\n",
       "      <td>...</td>\n",
       "      <td>...</td>\n",
       "      <td>...</td>\n",
       "      <td>...</td>\n",
       "      <td>...</td>\n",
       "      <td>...</td>\n",
       "      <td>...</td>\n",
       "      <td>...</td>\n",
       "      <td>...</td>\n",
       "    </tr>\n",
       "    <tr>\n",
       "      <th>5475</th>\n",
       "      <td>3.890007</td>\n",
       "      <td>4.377069</td>\n",
       "      <td>2.025306</td>\n",
       "      <td>18.0</td>\n",
       "      <td>77.0</td>\n",
       "      <td>2.0</td>\n",
       "      <td>3.0</td>\n",
       "      <td>0.0</td>\n",
       "      <td>1.0</td>\n",
       "      <td>0.75</td>\n",
       "      <td>...</td>\n",
       "      <td>0.0</td>\n",
       "      <td>0.0</td>\n",
       "      <td>0.0</td>\n",
       "      <td>0.0</td>\n",
       "      <td>0.0</td>\n",
       "      <td>0.0</td>\n",
       "      <td>0.0</td>\n",
       "      <td>0.0</td>\n",
       "      <td>0.0</td>\n",
       "      <td>0.0</td>\n",
       "    </tr>\n",
       "    <tr>\n",
       "      <th>5476</th>\n",
       "      <td>4.764673</td>\n",
       "      <td>4.787609</td>\n",
       "      <td>2.269513</td>\n",
       "      <td>0.0</td>\n",
       "      <td>30.0</td>\n",
       "      <td>1.0</td>\n",
       "      <td>2.0</td>\n",
       "      <td>0.0</td>\n",
       "      <td>0.0</td>\n",
       "      <td>0.25</td>\n",
       "      <td>...</td>\n",
       "      <td>0.0</td>\n",
       "      <td>1.0</td>\n",
       "      <td>0.0</td>\n",
       "      <td>0.0</td>\n",
       "      <td>1.0</td>\n",
       "      <td>0.0</td>\n",
       "      <td>0.0</td>\n",
       "      <td>1.0</td>\n",
       "      <td>0.0</td>\n",
       "      <td>0.0</td>\n",
       "    </tr>\n",
       "    <tr>\n",
       "      <th>5477</th>\n",
       "      <td>3.746453</td>\n",
       "      <td>4.045206</td>\n",
       "      <td>1.863323</td>\n",
       "      <td>26.0</td>\n",
       "      <td>50.0</td>\n",
       "      <td>0.0</td>\n",
       "      <td>4.0</td>\n",
       "      <td>0.0</td>\n",
       "      <td>0.0</td>\n",
       "      <td>0.75</td>\n",
       "      <td>...</td>\n",
       "      <td>0.0</td>\n",
       "      <td>0.0</td>\n",
       "      <td>1.0</td>\n",
       "      <td>0.0</td>\n",
       "      <td>0.0</td>\n",
       "      <td>0.0</td>\n",
       "      <td>1.0</td>\n",
       "      <td>0.0</td>\n",
       "      <td>0.0</td>\n",
       "      <td>1.0</td>\n",
       "    </tr>\n",
       "    <tr>\n",
       "      <th>5478</th>\n",
       "      <td>3.610948</td>\n",
       "      <td>4.365600</td>\n",
       "      <td>2.029384</td>\n",
       "      <td>31.0</td>\n",
       "      <td>60.0</td>\n",
       "      <td>0.0</td>\n",
       "      <td>1.0</td>\n",
       "      <td>0.0</td>\n",
       "      <td>0.0</td>\n",
       "      <td>0.50</td>\n",
       "      <td>...</td>\n",
       "      <td>0.0</td>\n",
       "      <td>0.0</td>\n",
       "      <td>0.0</td>\n",
       "      <td>0.0</td>\n",
       "      <td>0.0</td>\n",
       "      <td>1.0</td>\n",
       "      <td>0.0</td>\n",
       "      <td>1.0</td>\n",
       "      <td>0.0</td>\n",
       "      <td>0.0</td>\n",
       "    </tr>\n",
       "    <tr>\n",
       "      <th>5479</th>\n",
       "      <td>3.623045</td>\n",
       "      <td>4.485693</td>\n",
       "      <td>2.025306</td>\n",
       "      <td>13.0</td>\n",
       "      <td>21.0</td>\n",
       "      <td>0.0</td>\n",
       "      <td>1.0</td>\n",
       "      <td>0.0</td>\n",
       "      <td>0.0</td>\n",
       "      <td>0.25</td>\n",
       "      <td>...</td>\n",
       "      <td>0.0</td>\n",
       "      <td>0.0</td>\n",
       "      <td>1.0</td>\n",
       "      <td>0.0</td>\n",
       "      <td>0.0</td>\n",
       "      <td>0.0</td>\n",
       "      <td>0.0</td>\n",
       "      <td>0.0</td>\n",
       "      <td>1.0</td>\n",
       "      <td>0.0</td>\n",
       "    </tr>\n",
       "  </tbody>\n",
       "</table>\n",
       "<p>5480 rows × 28 columns</p>\n",
       "</div>"
      ],
      "text/plain": [
       "            0         1         2     3     4    5    6    7    8     9   ...  \\\n",
       "0     3.955010  0.000000  2.113943  32.0  38.0  0.0  4.0  0.0  0.5  0.00  ...   \n",
       "1     3.985548  0.000000  1.982271   5.0  27.0  0.0  2.0  0.0  0.5  0.00  ...   \n",
       "2     3.957213  4.579441  2.060698   8.0  44.0  0.0  3.0  0.0  0.0  0.25  ...   \n",
       "3     4.175513  0.000000  2.346353  26.0  50.0  0.0  8.0  0.0  0.5  0.00  ...   \n",
       "4     3.915360  0.000000  2.037426   5.0  63.0  0.0  3.0  0.0  0.0  0.00  ...   \n",
       "...        ...       ...       ...   ...   ...  ...  ...  ...  ...   ...  ...   \n",
       "5475  3.890007  4.377069  2.025306  18.0  77.0  2.0  3.0  0.0  1.0  0.75  ...   \n",
       "5476  4.764673  4.787609  2.269513   0.0  30.0  1.0  2.0  0.0  0.0  0.25  ...   \n",
       "5477  3.746453  4.045206  1.863323  26.0  50.0  0.0  4.0  0.0  0.0  0.75  ...   \n",
       "5478  3.610948  4.365600  2.029384  31.0  60.0  0.0  1.0  0.0  0.0  0.50  ...   \n",
       "5479  3.623045  4.485693  2.025306  13.0  21.0  0.0  1.0  0.0  0.0  0.25  ...   \n",
       "\n",
       "       18   19   20   21   22   23   24   25   26   27  \n",
       "0     0.0  0.0  0.0  0.0  0.0  0.0  0.0  0.0  1.0  0.0  \n",
       "1     0.0  0.0  0.0  0.0  0.0  0.0  0.0  0.0  0.0  0.0  \n",
       "2     0.0  0.0  0.0  0.0  0.0  0.0  0.0  0.0  1.0  0.0  \n",
       "3     0.0  0.0  0.0  0.0  1.0  0.0  0.0  1.0  0.0  0.0  \n",
       "4     0.0  0.0  1.0  0.0  0.0  0.0  1.0  0.0  1.0  0.0  \n",
       "...   ...  ...  ...  ...  ...  ...  ...  ...  ...  ...  \n",
       "5475  0.0  0.0  0.0  0.0  0.0  0.0  0.0  0.0  0.0  0.0  \n",
       "5476  0.0  1.0  0.0  0.0  1.0  0.0  0.0  1.0  0.0  0.0  \n",
       "5477  0.0  0.0  1.0  0.0  0.0  0.0  1.0  0.0  0.0  1.0  \n",
       "5478  0.0  0.0  0.0  0.0  0.0  1.0  0.0  1.0  0.0  0.0  \n",
       "5479  0.0  0.0  1.0  0.0  0.0  0.0  0.0  0.0  1.0  0.0  \n",
       "\n",
       "[5480 rows x 28 columns]"
      ]
     },
     "metadata": {},
     "output_type": "display_data"
    }
   ],
   "source": [
    "display(pd.DataFrame(X_test_processed))\n",
    "display(pd.DataFrame(X_train_processed))"
   ]
  },
  {
   "cell_type": "code",
   "execution_count": 241,
   "metadata": {},
   "outputs": [],
   "source": [
    "from sklearn.neighbors import KNeighborsRegressor\n",
    "from sklearn.linear_model import LinearRegression\n",
    "from sklearn.neural_network import MLPRegressor"
   ]
  },
  {
   "cell_type": "code",
   "execution_count": 242,
   "metadata": {},
   "outputs": [],
   "source": [
    "# I cut some corners by borrowing Erin's code (thanks, Erin). The results are mixed...\n",
    "\n",
    "def models_function(models, X_train_m, y_train_m, X_test_m, y_test_m):\n",
    "    for model in models:\n",
    "        model.fit(X_train_m, y_train_m)\n",
    "        print(f\"{model.__class__.__name__}: Train -> {model.score(X_train_m, y_train_m)}, Test -> {model.score(X_test_m, y_test_m)}\")"
   ]
  },
  {
   "cell_type": "code",
   "execution_count": 243,
   "metadata": {},
   "outputs": [],
   "source": [
    "lm = LinearRegression()\n",
    "\n",
    "knn = KNeighborsRegressor(n_neighbors=6)\n",
    "\n",
    "mlp = MLPRegressor()"
   ]
  },
  {
   "cell_type": "code",
   "execution_count": 244,
   "metadata": {},
   "outputs": [
    {
     "name": "stdout",
     "output_type": "stream",
     "text": [
      "LinearRegression: Train -> 0.6125964151507608, Test -> 0.586464808722574\n",
      "KNeighborsRegressor: Train -> 0.373385679648381, Test -> 0.07778473562827759\n",
      "MLPRegressor: Train -> 0.6031036913987439, Test -> 0.5860318687358297\n"
     ]
    },
    {
     "name": "stderr",
     "output_type": "stream",
     "text": [
      "/opt/anaconda3/lib/python3.9/site-packages/sklearn/neural_network/_multilayer_perceptron.py:702: ConvergenceWarning: Stochastic Optimizer: Maximum iterations (200) reached and the optimization hasn't converged yet.\n",
      "  warnings.warn(\n"
     ]
    }
   ],
   "source": [
    "model_list = [lm, knn, mlp]\n",
    "models_function(model_list, X_train_processed, y_train, X_test_processed, y_test)"
   ]
  },
  {
   "cell_type": "code",
   "execution_count": null,
   "metadata": {},
   "outputs": [],
   "source": [
    "# ...Not sure what happened with the KNN model above. The results seem anomalous as though something is not correct.\n",
    "# Otherwise we see the strongest predictor may actually be the linear model with the highest R2 scores by a small margin."
   ]
  },
  {
   "cell_type": "code",
   "execution_count": 245,
   "metadata": {},
   "outputs": [
    {
     "name": "stdout",
     "output_type": "stream",
     "text": [
      "7175    312.000000\n",
      "7255    131.262395\n",
      "2846     65.659137\n",
      "Name: total_claim_amount, dtype: float64\n",
      "[215.3213065  431.91295683 399.16727417]\n",
      "[245.07147077 476.65699444 165.69323622]\n",
      "[299.15621265 489.11140504 207.53297838]\n"
     ]
    }
   ],
   "source": [
    "knn_pred = knn.predict(X_test_processed)[:3]\n",
    "\n",
    "lm_pred = lm.predict(X_test_processed)[:3]\n",
    "\n",
    "mlp_pred = mlp.predict(X_test_processed)[:3]\n",
    "\n",
    "print(y_test[:3]) \n",
    "print(knn_pred)\n",
    "print(lm_pred)\n",
    "print(mlp_pred)\n",
    "\n",
    "# Based on predicted values, we see a lot of variance between the models\n"
   ]
  },
  {
   "cell_type": "markdown",
   "metadata": {},
   "source": [
    "# Lab 4.6 - Random Variable Distributions"
   ]
  },
  {
   "cell_type": "code",
   "execution_count": 249,
   "metadata": {},
   "outputs": [
    {
     "data": {
      "text/html": [
       "<div>\n",
       "<style scoped>\n",
       "    .dataframe tbody tr th:only-of-type {\n",
       "        vertical-align: middle;\n",
       "    }\n",
       "\n",
       "    .dataframe tbody tr th {\n",
       "        vertical-align: top;\n",
       "    }\n",
       "\n",
       "    .dataframe thead th {\n",
       "        text-align: right;\n",
       "    }\n",
       "</style>\n",
       "<table border=\"1\" class=\"dataframe\">\n",
       "  <thead>\n",
       "    <tr style=\"text-align: right;\">\n",
       "      <th></th>\n",
       "      <th>0</th>\n",
       "      <th>1</th>\n",
       "      <th>2</th>\n",
       "      <th>3</th>\n",
       "      <th>4</th>\n",
       "    </tr>\n",
       "  </thead>\n",
       "  <tbody>\n",
       "    <tr>\n",
       "      <th>customer_lifetime_value</th>\n",
       "      <td>2763.519279</td>\n",
       "      <td>6979.535903</td>\n",
       "      <td>12887.431650</td>\n",
       "      <td>7645.861827</td>\n",
       "      <td>2813.692575</td>\n",
       "    </tr>\n",
       "    <tr>\n",
       "      <th>income</th>\n",
       "      <td>56274.000000</td>\n",
       "      <td>0.000000</td>\n",
       "      <td>48767.000000</td>\n",
       "      <td>0.000000</td>\n",
       "      <td>43836.000000</td>\n",
       "    </tr>\n",
       "    <tr>\n",
       "      <th>monthly_premium_auto</th>\n",
       "      <td>69.000000</td>\n",
       "      <td>94.000000</td>\n",
       "      <td>108.000000</td>\n",
       "      <td>106.000000</td>\n",
       "      <td>73.000000</td>\n",
       "    </tr>\n",
       "    <tr>\n",
       "      <th>months_since_last_claim</th>\n",
       "      <td>32.000000</td>\n",
       "      <td>13.000000</td>\n",
       "      <td>18.000000</td>\n",
       "      <td>18.000000</td>\n",
       "      <td>12.000000</td>\n",
       "    </tr>\n",
       "    <tr>\n",
       "      <th>months_since_policy_inception</th>\n",
       "      <td>5.000000</td>\n",
       "      <td>42.000000</td>\n",
       "      <td>38.000000</td>\n",
       "      <td>65.000000</td>\n",
       "      <td>44.000000</td>\n",
       "    </tr>\n",
       "    <tr>\n",
       "      <th>number_of_open_complaints</th>\n",
       "      <td>0.000000</td>\n",
       "      <td>0.000000</td>\n",
       "      <td>0.000000</td>\n",
       "      <td>0.000000</td>\n",
       "      <td>0.000000</td>\n",
       "    </tr>\n",
       "    <tr>\n",
       "      <th>number_of_policies</th>\n",
       "      <td>1.000000</td>\n",
       "      <td>8.000000</td>\n",
       "      <td>2.000000</td>\n",
       "      <td>7.000000</td>\n",
       "      <td>1.000000</td>\n",
       "    </tr>\n",
       "    <tr>\n",
       "      <th>total_claim_amount</th>\n",
       "      <td>384.811147</td>\n",
       "      <td>1131.464935</td>\n",
       "      <td>566.472247</td>\n",
       "      <td>529.881344</td>\n",
       "      <td>138.130879</td>\n",
       "    </tr>\n",
       "  </tbody>\n",
       "</table>\n",
       "</div>"
      ],
      "text/plain": [
       "                                          0            1             2  \\\n",
       "customer_lifetime_value         2763.519279  6979.535903  12887.431650   \n",
       "income                         56274.000000     0.000000  48767.000000   \n",
       "monthly_premium_auto              69.000000    94.000000    108.000000   \n",
       "months_since_last_claim           32.000000    13.000000     18.000000   \n",
       "months_since_policy_inception      5.000000    42.000000     38.000000   \n",
       "number_of_open_complaints          0.000000     0.000000      0.000000   \n",
       "number_of_policies                 1.000000     8.000000      2.000000   \n",
       "total_claim_amount               384.811147  1131.464935    566.472247   \n",
       "\n",
       "                                         3             4  \n",
       "customer_lifetime_value        7645.861827   2813.692575  \n",
       "income                            0.000000  43836.000000  \n",
       "monthly_premium_auto            106.000000     73.000000  \n",
       "months_since_last_claim          18.000000     12.000000  \n",
       "months_since_policy_inception    65.000000     44.000000  \n",
       "number_of_open_complaints         0.000000      0.000000  \n",
       "number_of_policies                7.000000      1.000000  \n",
       "total_claim_amount              529.881344    138.130879  "
      ]
     },
     "execution_count": 249,
     "metadata": {},
     "output_type": "execute_result"
    }
   ],
   "source": [
    "# 1. Get the numerical variables from our dataset.\n",
    "\n",
    "numerical.head().T\n"
   ]
  },
  {
   "cell_type": "code",
   "execution_count": 250,
   "metadata": {},
   "outputs": [
    {
     "data": {
      "image/png": "[encoded data removed]",
      "text/plain": [
       "<Figure size 360x360 with 1 Axes>"
      ]
     },
     "metadata": {
      "needs_background": "light"
     },
     "output_type": "display_data"
    },
    {
     "data": {
      "image/png": "[encoded data removed]",
      "text/plain": [
       "<Figure size 360x360 with 1 Axes>"
      ]
     },
     "metadata": {
      "needs_background": "light"
     },
     "output_type": "display_data"
    },
    {
     "data": {
      "image/png": "[encoded data removed]",
      "text/plain": [
       "<Figure size 360x360 with 1 Axes>"
      ]
     },
     "metadata": {
      "needs_background": "light"
     },
     "output_type": "display_data"
    },
    {
     "data": {
      "image/png": "[encoded data removed]",
      "text/plain": [
       "<Figure size 360x360 with 1 Axes>"
      ]
     },
     "metadata": {
      "needs_background": "light"
     },
     "output_type": "display_data"
    },
    {
     "data": {
      "image/png": "[encoded data removed]",
      "text/plain": [
       "<Figure size 360x360 with 1 Axes>"
      ]
     },
     "metadata": {
      "needs_background": "light"
     },
     "output_type": "display_data"
    },
    {
     "data": {
      "image/png": "[encoded data removed]",
      "text/plain": [
       "<Figure size 360x360 with 1 Axes>"
      ]
     },
     "metadata": {
      "needs_background": "light"
     },
     "output_type": "display_data"
    },
    {
     "data": {
      "image/png": "[encoded data removed]",
      "text/plain": [
       "<Figure size 360x360 with 1 Axes>"
      ]
     },
     "metadata": {
      "needs_background": "light"
     },
     "output_type": "display_data"
    },
    {
     "data": {
      "image/png": "[encoded data removed]",
      "text/plain": [
       "<Figure size 360x360 with 1 Axes>"
      ]
     },
     "metadata": {
      "needs_background": "light"
     },
     "output_type": "display_data"
    }
   ],
   "source": [
    "# 2. Check using a distribution plot if the variables fit the theoretical normal or exponential distribution.\n",
    "\n",
    "for column in numerical:\n",
    "    sns.displot(numerical[column], kde=True)\n",
    "    plt.show()\n",
    "\n",
    "# Based on the plots below, the variables that appear to have normal distributions are:\n",
    "    # income\n",
    "    # months_since_last_claim\n",
    "    # months_since_policy_inception\n",
    "\n",
    "# The exponential distributions are:\n",
    "    # customer_lifetime_value\n",
    "    # monthly_premium_auto\n",
    "    # total_claim_amount (note: this is the target)\n",
    "\n",
    "# number_of_open_complaints and number_of_policies resemble ordinal categoricals \n",
    "# as opposed to continuous random variables so their distributions are not great, but they exhibit a right skew\n",
    "\n"
   ]
  },
  {
   "cell_type": "code",
   "execution_count": 251,
   "metadata": {},
   "outputs": [
    {
     "data": {
      "image/png": "[encoded data removed]",
      "text/plain": [
       "<Figure size 360x360 with 1 Axes>"
      ]
     },
     "metadata": {
      "needs_background": "light"
     },
     "output_type": "display_data"
    },
    {
     "data": {
      "image/png": "[encoded data removed]",
      "text/plain": [
       "<Figure size 360x360 with 1 Axes>"
      ]
     },
     "metadata": {
      "needs_background": "light"
     },
     "output_type": "display_data"
    },
    {
     "data": {
      "image/png": "[encoded data removed]",
      "text/plain": [
       "<Figure size 360x360 with 1 Axes>"
      ]
     },
     "metadata": {
      "needs_background": "light"
     },
     "output_type": "display_data"
    },
    {
     "data": {
      "image/png": "[encoded data removed]",
      "text/plain": [
       "<Figure size 360x360 with 1 Axes>"
      ]
     },
     "metadata": {
      "needs_background": "light"
     },
     "output_type": "display_data"
    },
    {
     "data": {
      "image/png": "[encoded data removed]",
      "text/plain": [
       "<Figure size 360x360 with 1 Axes>"
      ]
     },
     "metadata": {
      "needs_background": "light"
     },
     "output_type": "display_data"
    },
    {
     "data": {
      "image/png": "[encoded data removed]",
      "text/plain": [
       "<Figure size 360x360 with 1 Axes>"
      ]
     },
     "metadata": {
      "needs_background": "light"
     },
     "output_type": "display_data"
    }
   ],
   "source": [
    "# 3. Check if any of the transformations (log-transform, etc.) we have seen up to this point changes the result.\n",
    "\n",
    "for column in X_train_num:\n",
    "    sns.displot(X_train_num[column], kde=True)\n",
    "    plt.show()\n",
    "\n",
    "# When we log transform the first three numericals (and drop the target), 'customer_lifetime_value' and 'monthly_premium_auto' start to look more normal...\n",
    "# ...Whereas 'income' starts to look bimodal\n",
    "# So it is clear that log transform changed the shape of the distribution for those variables (by limiting the effect of outliers)\n",
    "\n",
    "# As a side note: 'response' looks bimodal (yes / no) and may actually belong in the categorical variables..."
   ]
  }
 ],
 "metadata": {
  "kernelspec": {
   "display_name": "Python 3.9.12 ('base')",
   "language": "python",
   "name": "python3"
  },
  "language_info": {
   "codemirror_mode": {
    "name": "ipython",
    "version": 3
   },
   "file_extension": ".py",
   "mimetype": "text/x-python",
   "name": "python",
   "nbconvert_exporter": "python",
   "pygments_lexer": "ipython3",
   "version": "3.9.12"
  },
  "orig_nbformat": 4,
  "vscode": {
   "interpreter": {
    "hash": "40d3a090f54c6569ab1632332b64b2c03c39dcf918b08424e98f38b5ae0af88f"
   }
  }
 },
 "nbformat": 4,
 "nbformat_minor": 2
}
